{
 "cells": [
  {
   "cell_type": "code",
   "execution_count": 2,
   "id": "4d21d78f",
   "metadata": {},
   "outputs": [],
   "source": [
    "import numpy as np"
   ]
  },
  {
   "cell_type": "code",
   "execution_count": 4,
   "id": "330c32da",
   "metadata": {},
   "outputs": [
    {
     "name": "stdout",
     "output_type": "stream",
     "text": [
      "[1 2 3]\n",
      "[0 1 2 3 4]\n"
     ]
    }
   ],
   "source": [
    "n = np.array([1,2,3])\n",
    "print(n)\n",
    "print(np.arange(5))"
   ]
  },
  {
   "cell_type": "code",
   "execution_count": 5,
   "id": "d45a8ee0",
   "metadata": {},
   "outputs": [
    {
     "name": "stdout",
     "output_type": "stream",
     "text": [
      "1.2 ms ± 39.7 µs per loop (mean ± std. dev. of 7 runs, 1,000 loops each)\n"
     ]
    }
   ],
   "source": [
    "l = range(10000)\n",
    "%timeit [i**3 for i in l]"
   ]
  },
  {
   "cell_type": "code",
   "execution_count": 6,
   "id": "7f935f74",
   "metadata": {},
   "outputs": [
    {
     "name": "stdout",
     "output_type": "stream",
     "text": [
      "31.7 µs ± 2.04 µs per loop (mean ± std. dev. of 7 runs, 10,000 loops each)\n"
     ]
    }
   ],
   "source": [
    "n = np.arange(10000)\n",
    "%timeit n**3"
   ]
  },
  {
   "cell_type": "code",
   "execution_count": 10,
   "id": "77d51222",
   "metadata": {},
   "outputs": [
    {
     "name": "stdout",
     "output_type": "stream",
     "text": [
      "[[1 0 0]\n",
      " [0 4 0]\n",
      " [0 0 9]]\n",
      "\n",
      "\n",
      "[[1 0 0]\n",
      " [0 4 0]\n",
      " [0 0 9]]\n"
     ]
    }
   ],
   "source": [
    "# matrix multiplication\n",
    "p = np.diag([1,2,3])\n",
    "print(p.dot(p))\n",
    "print('\\n')\n",
    "print(p*p)"
   ]
  },
  {
   "cell_type": "code",
   "execution_count": 19,
   "id": "ebdcc04c",
   "metadata": {},
   "outputs": [
    {
     "name": "stdout",
     "output_type": "stream",
     "text": [
      "[[ 3  3  0]\n",
      " [ 9  6  0]\n",
      " [15  9  0]]\n",
      "*********\n",
      "[[ 3  3  0]\n",
      " [ 9  6  0]\n",
      " [15  9  0]]\n",
      "*********\n",
      "[[1 0 0]\n",
      " [4 0 0]\n",
      " [0 8 0]]\n"
     ]
    }
   ],
   "source": [
    "a = np.array([[1,2,3],[4,5,6],[7,8,9]])\n",
    "b = np.array([[1,0,0],[1,0,0],[0,1,0]])\n",
    "print(np.matmul(a,b))\n",
    "print('*********')\n",
    "print(np.dot(a,b))\n",
    "print('*********')\n",
    "print(a*b)"
   ]
  },
  {
   "cell_type": "code",
   "execution_count": 22,
   "id": "2e474528",
   "metadata": {},
   "outputs": [
    {
     "name": "stdout",
     "output_type": "stream",
     "text": [
      "6\n",
      "1\n",
      "0\n"
     ]
    }
   ],
   "source": [
    "l = np.array([1,2,3])\n",
    "print(np.sum(l))\n",
    "print(np.min(l))\n",
    "print(np.argmin(l))"
   ]
  },
  {
   "cell_type": "code",
   "execution_count": 24,
   "id": "0804e5a5",
   "metadata": {},
   "outputs": [
    {
     "name": "stdout",
     "output_type": "stream",
     "text": [
      "22.0\n",
      "3.0\n"
     ]
    }
   ],
   "source": [
    "l = np.array([1,2,3,4,100])\n",
    "print(np.mean(l))\n",
    "print(np.median(l))"
   ]
  },
  {
   "cell_type": "code",
   "execution_count": 25,
   "id": "7fe0e497",
   "metadata": {},
   "outputs": [
    {
     "name": "stdout",
     "output_type": "stream",
     "text": [
      "[3.  4.  2.5]\n",
      "[2. 5.]\n",
      "[2. 5.]\n"
     ]
    }
   ],
   "source": [
    "l2 = np.array([[1,2,3],[5,6,2]])\n",
    "print(np.median(l2,axis=0))\n",
    "print(np.median(l2,axis=1))\n",
    "print(np.median(l2,axis=-1))"
   ]
  },
  {
   "cell_type": "code",
   "execution_count": 30,
   "id": "c326201f",
   "metadata": {},
   "outputs": [
    {
     "name": "stdout",
     "output_type": "stream",
     "text": [
      "[[  1  20 100]\n",
      " [  2  15 123]\n",
      " [  3  23 143]]\n",
      "******\n",
      "[[  1   2   3]\n",
      " [ 20  15  23]\n",
      " [100 123 143]]\n"
     ]
    }
   ],
   "source": [
    "data = np.array([[1,20,100],[2,15,123],[3,23,143]])\n",
    "srno, data1, data2 = data.T\n",
    "print(data)\n",
    "print('******')\n",
    "print(data.T)"
   ]
  },
  {
   "cell_type": "code",
   "execution_count": 31,
   "id": "b05f31c6",
   "metadata": {},
   "outputs": [
    {
     "name": "stdout",
     "output_type": "stream",
     "text": [
      "[[  1  20 100]\n",
      " [  2  15 123]\n",
      " [  3  23 143]]\n",
      "[1 2 3]\n",
      "[20 15 23]\n"
     ]
    }
   ],
   "source": [
    "print(data)\n",
    "print(srno)\n",
    "print(data1)"
   ]
  },
  {
   "cell_type": "code",
   "execution_count": 41,
   "id": "8f84801d",
   "metadata": {},
   "outputs": [
    {
     "name": "stdout",
     "output_type": "stream",
     "text": [
      "[[ 17 100]\n",
      " [ 15 123]\n",
      " [ 23 143]]\n",
      "[[ 17 100]\n",
      " [ 15 123]\n",
      " [ 23 143]]\n"
     ]
    }
   ],
   "source": [
    "data2 = data[:,1:]\n",
    "print(data2)\n",
    "print(data2)"
   ]
  },
  {
   "cell_type": "code",
   "execution_count": 42,
   "id": "f4e351b2",
   "metadata": {},
   "outputs": [
    {
     "name": "stdout",
     "output_type": "stream",
     "text": [
      "[[  1  17 100]\n",
      " [  2  15 123]\n",
      " [  3  23 143]]\n"
     ]
    }
   ],
   "source": [
    "print(data)"
   ]
  },
  {
   "cell_type": "code",
   "execution_count": 45,
   "id": "f668238e",
   "metadata": {},
   "outputs": [
    {
     "data": {
      "text/plain": [
       "array([1, 2, 3, 4, 5, 6])"
      ]
     },
     "execution_count": 45,
     "metadata": {},
     "output_type": "execute_result"
    }
   ],
   "source": [
    "n = np.array([[1,2,3],[4,5,6]])\n",
    "n.ravel()"
   ]
  },
  {
   "cell_type": "code",
   "execution_count": 47,
   "id": "304fd0c5",
   "metadata": {},
   "outputs": [
    {
     "data": {
      "text/plain": [
       "array([1, 4, 2, 5, 3, 6])"
      ]
     },
     "execution_count": 47,
     "metadata": {},
     "output_type": "execute_result"
    }
   ],
   "source": [
    "n.T\n",
    "n.T.ravel()"
   ]
  },
  {
   "cell_type": "code",
   "execution_count": null,
   "id": "9dbe9e89",
   "metadata": {},
   "outputs": [],
   "source": []
  }
 ],
 "metadata": {
  "kernelspec": {
   "display_name": "Python 3 (ipykernel)",
   "language": "python",
   "name": "python3"
  },
  "language_info": {
   "codemirror_mode": {
    "name": "ipython",
    "version": 3
   },
   "file_extension": ".py",
   "mimetype": "text/x-python",
   "name": "python",
   "nbconvert_exporter": "python",
   "pygments_lexer": "ipython3",
   "version": "3.11.3"
  }
 },
 "nbformat": 4,
 "nbformat_minor": 5
}
